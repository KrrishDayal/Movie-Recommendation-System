{
  "nbformat": 4,
  "nbformat_minor": 0,
  "metadata": {
    "colab": {
      "provenance": []
    },
    "kernelspec": {
      "name": "python3",
      "display_name": "Python 3"
    },
    "language_info": {
      "name": "python"
    }
  },
  "cells": [
    {
      "cell_type": "markdown",
      "source": [
        "#Movie Recommendation Project"
      ],
      "metadata": {
        "id": "uN2ylVIbSX3f"
      }
    },
    {
      "cell_type": "markdown",
      "source": [
        "###Loading Dataset"
      ],
      "metadata": {
        "id": "WEP0YqdVNX39"
      }
    },
    {
      "cell_type": "code",
      "execution_count": null,
      "metadata": {
        "colab": {
          "base_uri": "https://localhost:8080/"
        },
        "id": "CwiD7q9XSQX7",
        "outputId": "a7992609-6295-4481-97ee-a9694ef0a779"
      },
      "outputs": [
        {
          "output_type": "stream",
          "name": "stdout",
          "text": [
            "Requirement already satisfied: kagglehub in /usr/local/lib/python3.10/dist-packages (0.3.6)\n",
            "Requirement already satisfied: packaging in /usr/local/lib/python3.10/dist-packages (from kagglehub) (24.2)\n",
            "Requirement already satisfied: requests in /usr/local/lib/python3.10/dist-packages (from kagglehub) (2.32.3)\n",
            "Requirement already satisfied: tqdm in /usr/local/lib/python3.10/dist-packages (from kagglehub) (4.67.1)\n",
            "Requirement already satisfied: charset-normalizer<4,>=2 in /usr/local/lib/python3.10/dist-packages (from requests->kagglehub) (3.4.1)\n",
            "Requirement already satisfied: idna<4,>=2.5 in /usr/local/lib/python3.10/dist-packages (from requests->kagglehub) (3.10)\n",
            "Requirement already satisfied: urllib3<3,>=1.21.1 in /usr/local/lib/python3.10/dist-packages (from requests->kagglehub) (2.3.0)\n",
            "Requirement already satisfied: certifi>=2017.4.17 in /usr/local/lib/python3.10/dist-packages (from requests->kagglehub) (2024.12.14)\n"
          ]
        }
      ],
      "source": [
        "pip install kagglehub\n"
      ]
    },
    {
      "cell_type": "code",
      "source": [
        "import kagglehub\n",
        "\n",
        "# Download the latest version of the dataset\n",
        "path = kagglehub.dataset_download(\"grouplens/movielens-20m-dataset\")\n",
        "\n",
        "print(\"Path to dataset files:\", path)\n"
      ],
      "metadata": {
        "colab": {
          "base_uri": "https://localhost:8080/"
        },
        "id": "H2Asqv5qWVY3",
        "outputId": "58b65276-8a06-4a67-9094-5a2c8b19ca8c"
      },
      "execution_count": null,
      "outputs": [
        {
          "output_type": "stream",
          "name": "stdout",
          "text": [
            "Path to dataset files: /root/.cache/kagglehub/datasets/grouplens/movielens-20m-dataset/versions/1\n"
          ]
        }
      ]
    },
    {
      "cell_type": "code",
      "source": [
        "import kagglehub\n",
        "\n",
        "# Download latest version\n",
        "path = kagglehub.dataset_download(\"grouplens/movielens-20m-dataset\")\n",
        "\n",
        "print(\"Path to dataset files:\", path)"
      ],
      "metadata": {
        "id": "SXSr0MejXG-d",
        "colab": {
          "base_uri": "https://localhost:8080/"
        },
        "outputId": "ec8666fb-8360-41a9-efad-f6fa1669c4c6"
      },
      "execution_count": null,
      "outputs": [
        {
          "output_type": "stream",
          "name": "stdout",
          "text": [
            "Path to dataset files: /root/.cache/kagglehub/datasets/grouplens/movielens-20m-dataset/versions/1\n"
          ]
        }
      ]
    },
    {
      "cell_type": "code",
      "source": [
        "import pandas as pd\n",
        "\n",
        "# Load the datasets\n",
        "movies = pd.read_csv('/content/movie.csv.zip')\n",
        "\n",
        "\n",
        "# Display the first few rows of each dataset\n",
        "print(\"Movies Dataset:\")\n",
        "print(movies.head())\n",
        "\n",
        "print(\"\\nRatings Dataset:\")\n",
        "\n"
      ],
      "metadata": {
        "colab": {
          "base_uri": "https://localhost:8080/"
        },
        "id": "GwQ08x9ZCY2d",
        "outputId": "e60b2c02-31b6-44a9-ea6b-760e0594a487"
      },
      "execution_count": null,
      "outputs": [
        {
          "output_type": "stream",
          "name": "stdout",
          "text": [
            "Movies Dataset:\n",
            "   movieId                               title  \\\n",
            "0        1                    Toy Story (1995)   \n",
            "1        2                      Jumanji (1995)   \n",
            "2        3             Grumpier Old Men (1995)   \n",
            "3        4            Waiting to Exhale (1995)   \n",
            "4        5  Father of the Bride Part II (1995)   \n",
            "\n",
            "                                        genres  \n",
            "0  Adventure|Animation|Children|Comedy|Fantasy  \n",
            "1                   Adventure|Children|Fantasy  \n",
            "2                               Comedy|Romance  \n",
            "3                         Comedy|Drama|Romance  \n",
            "4                                       Comedy  \n",
            "\n",
            "Ratings Dataset:\n"
          ]
        }
      ]
    },
    {
      "cell_type": "code",
      "source": [
        "import zipfile\n",
        "\n",
        "# Extract files from ZIP\n",
        "with zipfile.ZipFile('/content/rating.csv.zip', 'r') as zip_ref:\n",
        "    zip_ref.extractall('/content/')\n",
        "\n",
        "# Load the extracted files\n",
        "\n",
        "ratings = pd.read_csv('/content/rating.csv.zip')\n"
      ],
      "metadata": {
        "id": "RDQ0HGvMLPSX"
      },
      "execution_count": null,
      "outputs": []
    },
    {
      "cell_type": "code",
      "source": [
        "print(\"\\nRatings Dataset:\")\n",
        "print(ratings.head())"
      ],
      "metadata": {
        "colab": {
          "base_uri": "https://localhost:8080/"
        },
        "id": "5BboMQusMrZV",
        "outputId": "d92bce02-7214-4b76-93c9-18346a9f4650"
      },
      "execution_count": null,
      "outputs": [
        {
          "output_type": "stream",
          "name": "stdout",
          "text": [
            "\n",
            "Ratings Dataset:\n",
            "   userId  movieId  rating            timestamp\n",
            "0       1        2     3.5  2005-04-02 23:53:47\n",
            "1       1       29     3.5  2005-04-02 23:31:16\n",
            "2       1       32     3.5  2005-04-02 23:33:39\n",
            "3       1       47     3.5  2005-04-02 23:32:07\n",
            "4       1       50     3.5  2005-04-02 23:29:40\n"
          ]
        }
      ]
    },
    {
      "cell_type": "markdown",
      "source": [
        "###Data Processing"
      ],
      "metadata": {
        "id": "PWKKKe7kNe0A"
      }
    },
    {
      "cell_type": "code",
      "source": [
        "# Check for missing values\n",
        "print(\"\\nMissing Values in Movies:\")\n",
        "print(movies.isnull().sum())\n",
        "\n",
        "print(\"\\nMissing Values in Ratings:\")\n",
        "print(ratings.isnull().sum())\n",
        "\n",
        "# Quick statistics for ratings\n",
        "print(\"\\nRatings Statistics:\")\n",
        "print(ratings['rating'].describe())\n"
      ],
      "metadata": {
        "colab": {
          "base_uri": "https://localhost:8080/"
        },
        "id": "hYFDYuw5NC6p",
        "outputId": "c15c4323-0ce3-44f4-a6db-bdc7faf73e08"
      },
      "execution_count": null,
      "outputs": [
        {
          "output_type": "stream",
          "name": "stdout",
          "text": [
            "\n",
            "Missing Values in Movies:\n",
            "movieId    0\n",
            "title      0\n",
            "genres     0\n",
            "dtype: int64\n",
            "\n",
            "Missing Values in Ratings:\n",
            "userId       0\n",
            "movieId      0\n",
            "rating       0\n",
            "timestamp    0\n",
            "dtype: int64\n",
            "\n",
            "Ratings Statistics:\n",
            "count    2.000026e+07\n",
            "mean     3.525529e+00\n",
            "std      1.051989e+00\n",
            "min      5.000000e-01\n",
            "25%      3.000000e+00\n",
            "50%      3.500000e+00\n",
            "75%      4.000000e+00\n",
            "max      5.000000e+00\n",
            "Name: rating, dtype: float64\n"
          ]
        }
      ]
    },
    {
      "cell_type": "code",
      "source": [
        "# Extract release year from the title\n",
        "movies['year'] = movies['title'].str.extract(r'\\((\\d{4})\\)', expand=False)\n",
        "\n",
        "# Split genres into a list\n",
        "movies['genres'] = movies['genres'].str.split('|')\n",
        "\n",
        "# Preview the modified movies dataset\n",
        "print(\"\\nModified Movies Dataset:\")\n",
        "print(movies.head())\n"
      ],
      "metadata": {
        "colab": {
          "base_uri": "https://localhost:8080/"
        },
        "id": "uwB4HGyRNFwO",
        "outputId": "fbdf3a16-2d3c-498a-f654-877774787632"
      },
      "execution_count": null,
      "outputs": [
        {
          "output_type": "stream",
          "name": "stdout",
          "text": [
            "\n",
            "Modified Movies Dataset:\n",
            "   movieId                               title  \\\n",
            "0        1                    Toy Story (1995)   \n",
            "1        2                      Jumanji (1995)   \n",
            "2        3             Grumpier Old Men (1995)   \n",
            "3        4            Waiting to Exhale (1995)   \n",
            "4        5  Father of the Bride Part II (1995)   \n",
            "\n",
            "                                              genres  year  \n",
            "0  [Adventure, Animation, Children, Comedy, Fantasy]  1995  \n",
            "1                     [Adventure, Children, Fantasy]  1995  \n",
            "2                                  [Comedy, Romance]  1995  \n",
            "3                           [Comedy, Drama, Romance]  1995  \n",
            "4                                           [Comedy]  1995  \n"
          ]
        }
      ]
    },
    {
      "cell_type": "markdown",
      "source": [
        "###Exploring the data"
      ],
      "metadata": {
        "id": "SSEBnij2Ni7C"
      }
    },
    {
      "cell_type": "code",
      "source": [
        "# Count ratings per movie\n",
        "ratings_per_movie = ratings['movieId'].value_counts()\n",
        "top_rated_movies = ratings_per_movie.head(10)\n",
        "\n",
        "# Merge with movies dataset for movie titles\n",
        "top_rated_movies = pd.DataFrame(top_rated_movies).reset_index()\n",
        "top_rated_movies.columns = ['movieId', 'count']\n",
        "top_rated_movies = top_rated_movies.merge(movies, on='movieId')\n",
        "\n",
        "print(\"\\nMost Rated Movies:\")\n",
        "print(top_rated_movies[['title', 'count']])\n",
        "\n",
        "# Average ratings per movie\n",
        "average_ratings = ratings.groupby('movieId')['rating'].mean()\n",
        "top_avg_rated_movies = average_ratings.sort_values(ascending=False).head(10)\n",
        "\n",
        "print(\"\\nHighest Average Rated Movies:\")\n",
        "print(top_avg_rated_movies)\n"
      ],
      "metadata": {
        "colab": {
          "base_uri": "https://localhost:8080/"
        },
        "id": "r0RxQaNmNIlH",
        "outputId": "1aafa65d-0a2c-42f2-da73-f5f7388982e7"
      },
      "execution_count": null,
      "outputs": [
        {
          "output_type": "stream",
          "name": "stdout",
          "text": [
            "\n",
            "Most Rated Movies:\n",
            "                                       title  count\n",
            "0                        Pulp Fiction (1994)  67310\n",
            "1                        Forrest Gump (1994)  66172\n",
            "2           Shawshank Redemption, The (1994)  63366\n",
            "3           Silence of the Lambs, The (1991)  63299\n",
            "4                       Jurassic Park (1993)  59715\n",
            "5  Star Wars: Episode IV - A New Hope (1977)  54502\n",
            "6                          Braveheart (1995)  53769\n",
            "7          Terminator 2: Judgment Day (1991)  52244\n",
            "8                         Matrix, The (1999)  51334\n",
            "9                    Schindler's List (1993)  50054\n",
            "\n",
            "Highest Average Rated Movies:\n",
            "movieId\n",
            "95517     5.0\n",
            "105846    5.0\n",
            "89133     5.0\n",
            "105187    5.0\n",
            "105191    5.0\n",
            "88488     5.0\n",
            "126945    5.0\n",
            "105526    5.0\n",
            "105529    5.0\n",
            "105841    5.0\n",
            "Name: rating, dtype: float64\n"
          ]
        }
      ]
    },
    {
      "cell_type": "markdown",
      "source": [
        "###Model"
      ],
      "metadata": {
        "id": "Smw_BRrUNn6h"
      }
    },
    {
      "cell_type": "code",
      "source": [
        "movies = movies[['movieId', 'title', 'genres']]\n",
        "ratings = ratings[['userId', 'movieId', 'rating']]\n"
      ],
      "metadata": {
        "id": "nFDEzsl9NLSE"
      },
      "execution_count": null,
      "outputs": []
    },
    {
      "cell_type": "code",
      "source": [
        "print(movies.isnull().sum())\n",
        "print(ratings.isnull().sum())\n",
        "\n",
        "# Drop rows with missing values (if any)\n",
        "movies.dropna(inplace=True)\n",
        "ratings.dropna(inplace=True)\n"
      ],
      "metadata": {
        "colab": {
          "base_uri": "https://localhost:8080/"
        },
        "id": "-C-m09dyODYy",
        "outputId": "500fbd75-d1c7-4e11-c54f-2c97654b079e"
      },
      "execution_count": null,
      "outputs": [
        {
          "output_type": "stream",
          "name": "stdout",
          "text": [
            "movieId    0\n",
            "title      0\n",
            "genres     0\n",
            "dtype: int64\n",
            "userId     0\n",
            "movieId    0\n",
            "rating     0\n",
            "dtype: int64\n"
          ]
        }
      ]
    },
    {
      "cell_type": "code",
      "source": [
        "movies['genres'] = movies['genres'].apply(lambda x: x.split('|') if isinstance(x, str) else [])\n"
      ],
      "metadata": {
        "id": "gFNpojMzOFk-"
      },
      "execution_count": null,
      "outputs": []
    },
    {
      "cell_type": "code",
      "source": [
        "# Filter movies with less than 10 ratings\n",
        "popular_movies = ratings.groupby('movieId').filter(lambda x: len(x) >= 10)\n",
        "\n",
        "# Filter users with less than 10 interactions\n",
        "active_users = popular_movies.groupby('userId').filter(lambda x: len(x) >= 10)\n"
      ],
      "metadata": {
        "id": "jYdTypiMOHsM"
      },
      "execution_count": null,
      "outputs": []
    },
    {
      "cell_type": "code",
      "source": [
        "from scipy.sparse import csr_matrix\n",
        "\n",
        "# Create a sparse matrix\n",
        "user_item_matrix = csr_matrix((ratings['rating'], (ratings['userId'], ratings['movieId'])))\n"
      ],
      "metadata": {
        "id": "-ALghgfqONpm"
      },
      "execution_count": null,
      "outputs": []
    },
    {
      "cell_type": "code",
      "source": [
        "# Filter movies with less than 10 ratings\n",
        "filtered_ratings = ratings.groupby('movieId').filter(lambda x: len(x) >= 10)\n",
        "\n",
        "# Filter users with less than 10 interactions\n",
        "filtered_ratings = filtered_ratings.groupby('userId').filter(lambda x: len(x) >= 10)\n"
      ],
      "metadata": {
        "id": "pbs1pMy8SUDY"
      },
      "execution_count": null,
      "outputs": []
    },
    {
      "cell_type": "code",
      "source": [
        "# Randomly sample 10,000 users and their ratings\n",
        "sampled_ratings = ratings[ratings['userId'].isin(ratings['userId'].sample(10000))]\n",
        "\n",
        "# Create the matrix again\n",
        "user_item_matrix = sampled_ratings.pivot(index='userId', columns='movieId', values='rating').fillna(0)\n"
      ],
      "metadata": {
        "id": "pJYFYBNRS0m-"
      },
      "execution_count": null,
      "outputs": []
    },
    {
      "cell_type": "code",
      "source": [
        "# Downcast numerical columns\n",
        "ratings['userId'] = ratings['userId'].astype('int32')\n",
        "ratings['movieId'] = ratings['movieId'].astype('int32')\n",
        "ratings['rating'] = ratings['rating'].astype('float32')\n"
      ],
      "metadata": {
        "id": "OOr6vhBITEnG"
      },
      "execution_count": null,
      "outputs": []
    },
    {
      "cell_type": "code",
      "source": [
        "!pip install scikit-surprise\n"
      ],
      "metadata": {
        "colab": {
          "base_uri": "https://localhost:8080/"
        },
        "id": "Lc34GvyXUpva",
        "outputId": "1419bbe4-11e9-4dd4-917d-9adc4b428c77"
      },
      "execution_count": null,
      "outputs": [
        {
          "output_type": "stream",
          "name": "stdout",
          "text": [
            "Requirement already satisfied: scikit-surprise in /usr/local/lib/python3.10/dist-packages (1.1.4)\n",
            "Requirement already satisfied: joblib>=1.2.0 in /usr/local/lib/python3.10/dist-packages (from scikit-surprise) (1.4.2)\n",
            "Requirement already satisfied: numpy>=1.19.5 in /usr/local/lib/python3.10/dist-packages (from scikit-surprise) (1.26.4)\n",
            "Requirement already satisfied: scipy>=1.6.0 in /usr/local/lib/python3.10/dist-packages (from scikit-surprise) (1.13.1)\n"
          ]
        }
      ]
    },
    {
      "cell_type": "code",
      "source": [
        "# Reduce dataset size (optional)\n",
        "small_ratings = ratings.sample(frac=0.1, random_state=42)  # Use 10% of the data\n",
        "# Filter users and movies with sufficient ratings\n",
        "min_user_ratings = 10\n",
        "min_movie_ratings = 10\n",
        "\n",
        "filtered_ratings = ratings.groupby('userId').filter(lambda x: len(x) >= min_user_ratings)\n",
        "filtered_ratings = filtered_ratings.groupby('movieId').filter(lambda x: len(x) >= min_movie_ratings)\n"
      ],
      "metadata": {
        "id": "zCWC_uJEU4Jh"
      },
      "execution_count": null,
      "outputs": []
    },
    {
      "cell_type": "markdown",
      "source": [
        "###Surprise Training Model"
      ],
      "metadata": {
        "id": "GOIyo_5Rio1x"
      }
    },
    {
      "cell_type": "code",
      "source": [
        "from surprise import SVD, Dataset, Reader\n",
        "from surprise.model_selection import train_test_split\n",
        "\n",
        "# Reduce the dataset size\n",
        "small_ratings = ratings.sample(frac=0.1, random_state=42)\n",
        "\n",
        "# Prepare data for surprise\n",
        "reader = Reader(rating_scale=(0.5, 5.0))\n",
        "data = Dataset.load_from_df(small_ratings[['userId', 'movieId', 'rating']], reader)\n",
        "\n",
        "# Split data into training and test sets\n",
        "trainset, testset = train_test_split(data, test_size=0.2)\n",
        "\n",
        "# Train the model\n",
        "algo = SVD()\n",
        "algo.fit(trainset)\n",
        "\n",
        "# Evaluate on the test set\n",
        "predictions = algo.test(testset)\n",
        "\n",
        "# Print performance metrics\n",
        "from surprise.accuracy import rmse, mae\n",
        "rmse(predictions)\n",
        "mae(predictions)\n"
      ],
      "metadata": {
        "colab": {
          "base_uri": "https://localhost:8080/"
        },
        "id": "3vm6Elf2VD0t",
        "outputId": "7ad70c91-52a0-4ad2-89fb-0e011a4efc68"
      },
      "execution_count": null,
      "outputs": [
        {
          "output_type": "stream",
          "name": "stdout",
          "text": [
            "RMSE: 0.9000\n",
            "MAE:  0.6946\n"
          ]
        },
        {
          "output_type": "execute_result",
          "data": {
            "text/plain": [
              "0.6946145745489936"
            ]
          },
          "metadata": {},
          "execution_count": 21
        }
      ]
    },
    {
      "cell_type": "code",
      "source": [
        "# Predict for a specific user and movie\n",
        "user_id = 1  # Replace with a user ID from your dataset\n",
        "movie_id = 1  # Replace with a movie ID from your dataset\n",
        "\n",
        "prediction = algo.predict(user_id, movie_id)\n",
        "print(f\"Predicted rating for user {user_id} on movie {movie_id}: {prediction.est:.2f}\")\n"
      ],
      "metadata": {
        "colab": {
          "base_uri": "https://localhost:8080/"
        },
        "id": "rnsgc7IJVI9j",
        "outputId": "9bde57f8-4186-4786-959d-57778ded211f"
      },
      "execution_count": null,
      "outputs": [
        {
          "output_type": "stream",
          "name": "stdout",
          "text": [
            "Predicted rating for user 1 on movie 1: 3.64\n"
          ]
        }
      ]
    },
    {
      "cell_type": "code",
      "source": [
        "from collections import defaultdict\n",
        "\n",
        "def get_top_n_recommendations(predictions, n=10):\n",
        "    # Map the predictions to each user\n",
        "    top_n = defaultdict(list)\n",
        "    for pred in predictions:\n",
        "        top_n[pred.uid].append((pred.iid, pred.est))\n",
        "\n",
        "    # Sort the predictions for each user and retrieve the top N\n",
        "    for uid, user_ratings in top_n.items():\n",
        "        user_ratings.sort(key=lambda x: x[1], reverse=True)\n",
        "        top_n[uid] = user_ratings[:n]\n",
        "\n",
        "    return top_n\n",
        "\n",
        "# Get top 10 recommendations for all users\n",
        "top_n = get_top_n_recommendations(predictions, n=10)\n",
        "\n",
        "# Print recommendations for the first user\n",
        "user_id = list(top_n.keys())[0]\n",
        "print(f\"Top 10 recommendations for user {user_id}: {top_n[user_id]}\")\n"
      ],
      "metadata": {
        "colab": {
          "base_uri": "https://localhost:8080/"
        },
        "id": "nha6MBeIZwDj",
        "outputId": "e6c4bb0d-5706-43e2-d66f-ec9099eeaf6d"
      },
      "execution_count": null,
      "outputs": [
        {
          "output_type": "stream",
          "name": "stdout",
          "text": [
            "Top 10 recommendations for user 121787: [(260, 4.403318699872758), (1210, 3.4926633355990973), (6502, 3.3359933738200023), (6281, 3.2707355853784965), (2, 3.2247448549758406), (2353, 3.1962108464993193), (4036, 3.0452508491767376), (8360, 2.9929472418525918), (1801, 2.756216158698211), (3825, 2.2041754762607986)]\n"
          ]
        }
      ]
    },
    {
      "cell_type": "markdown",
      "source": [
        "###Accuracy"
      ],
      "metadata": {
        "id": "V1l4nioBikFq"
      }
    },
    {
      "cell_type": "code",
      "source": [
        "from surprise import accuracy\n",
        "\n",
        "def precision_recall_at_k(predictions, k=10, threshold=3.5):\n",
        "    user_hits = defaultdict(int)\n",
        "    user_total = defaultdict(int)\n",
        "\n",
        "    for uid, _, true_r, est, _ in predictions:\n",
        "        user_total[uid] += 1\n",
        "        if est >= threshold and true_r >= threshold:\n",
        "            user_hits[uid] += 1\n",
        "\n",
        "    precision = sum(user_hits.values()) / sum(user_total.values())\n",
        "    return precision\n",
        "\n",
        "precision = precision_recall_at_k(predictions, k=10, threshold=3.5)\n",
        "print(f\"Precision@10: {precision:.2f}\")\n"
      ],
      "metadata": {
        "colab": {
          "base_uri": "https://localhost:8080/"
        },
        "id": "Bk3rtrgrZzd3",
        "outputId": "6f143c64-20d7-48d0-c47a-88113c2a5da4"
      },
      "execution_count": null,
      "outputs": [
        {
          "output_type": "stream",
          "name": "stdout",
          "text": [
            "Precision@10: 0.43\n"
          ]
        }
      ]
    },
    {
      "cell_type": "code",
      "source": [
        "import matplotlib.pyplot as plt\n",
        "\n",
        "# Extract predicted ratings\n",
        "predicted_ratings = [pred.est for pred in predictions]\n",
        "\n",
        "# Plot histogram\n",
        "plt.hist(predicted_ratings, bins=50, alpha=0.7, color='blue')\n",
        "plt.title('Distribution of Predicted Ratings')\n",
        "plt.xlabel('Rating')\n",
        "plt.ylabel('Frequency')\n",
        "plt.show()\n"
      ],
      "metadata": {
        "colab": {
          "base_uri": "https://localhost:8080/",
          "height": 472
        },
        "id": "ATktiPjvZ5LS",
        "outputId": "38e6b91d-5ad2-4712-9329-a2cb4e904b17"
      },
      "execution_count": null,
      "outputs": [
        {
          "output_type": "display_data",
          "data": {
            "text/plain": [
              "<Figure size 640x480 with 1 Axes>"
            ],
            "image/png": "[encoded data removed]"
          },
          "metadata": {}
        }
      ]
    },
    {
      "cell_type": "code",
      "source": [],
      "metadata": {
        "id": "RsZx8RwFaY3u"
      },
      "execution_count": null,
      "outputs": []
    }
  ]
}